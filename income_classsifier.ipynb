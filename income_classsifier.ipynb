{
 "cells": [
  {
   "cell_type": "markdown",
   "id": "4e96aa5c-5088-495c-8a79-5bd5b3c02d99",
   "metadata": {},
   "source": [
    "**About U.S. Adult Income Dataset**\r\n",
    "\r\n",
    "*Abstract:*\r\n",
    "\r\n",
    "The U.S. Adult Income Dataset is a collection of observations that aims to predict whether an individual's annual income exceeds US$50,000. Also known as the \"Census Income\" dataset, it was originally donated by Ronny Kohavi and Barry Becker in 1996. This dataset presents a classification task, consisting of both categorical and numerical features. Some instances in the dataset have missing values, which are denoted as \"?\". \r\n",
    "\r\n",
    "The dataset contains a total of 14 columns, with the last column, \"income\", serving as the classification label. The other features include:\r\n",
    "\r\n",
    "1. **age**: numerical\r\n",
    "2. **workclass**: categorical\r\n",
    "3. **fnlwgt**: numerical\r\n",
    "4. **education**: categorical\r\n",
    "5. **education-num**: numerical\r\n",
    "6. **marital-status**: categorical\r\n",
    "7. **occupation**: categorical\r\n",
    "8. **relationship**: categorical\r\n",
    "9. **race**: categorical\r\n",
    "10. **sex**: categorical\r\n",
    "11. **capital-gain**: numerical\r\n",
    "12. **capital-loss**: numerical\r\n",
    "13. **hours-per-week**: numerical\r\n",
    "14. **native-country**: categorical\r\n",
    "\r\n",
    "It is important to note that the dataset is imbalanced, with two class values: \">50k\" (minority class, approximately 25%) and \"<=50k\" (majority class, approximately 75%). \r\n",
    "\r\n",
    "This dataset is openly accessible and can be found at the [UCI Machine Learning Repository](https://archive.ics.uci.edu/ml/datasets/adult) or [Kaggle Adult Dataset](https://www.kaggle.com/wenruliu/adult-income-dataset)., or Kaggle Adult Dataset.\r"
   ]
  },
  {
   "cell_type": "markdown",
   "id": "dca3a021-3ae3-460c-96e2-a03ad682729c",
   "metadata": {},
   "source": [
    "## Typical Data Science Workflow\n",
    "\n",
    "The initial step is to comprehend the problem at hand.\n",
    "This applies to various sectors, including finance, consumer goods, computer networks, \n",
    "and manufacturing. Following this, \n",
    "a series of steps are typically followed to address the problem effectively.\n",
    "### 1. Understand the Business Problem\n",
    "\n",
    "The initial stage involves acquiring a comprehensive comprehension of the given problem. \n",
    "For instance, in this particular project, the objective is to determine if an individual is\n",
    "income surpasses US$50,000 by utilizing specific attributes. In a business context, this\n",
    "could entail predicting whether a \n",
    "person will make a purchase for particular products based on their browsing patterns.\n",
    "\n",
    "### 2. EDA (Exploratory Data Analysis)\n",
    "Not all datasets in data science projects are perfectly clean like those provided in academia. \n",
    "Real-world datasets obtained from customers can be quite \"dirty\", containing outliers, missing values,\n",
    "or intentionally incorrect entries. \n",
    "\n",
    "### 3. Data Cleaning\n",
    "\n",
    "\n",
    "### 4. Feature Engineering\n",
    "\n",
    "### 5. Baseline Model Result\n",
    "\n",
    "### 6. Model Evaluation and Fine-Tuning\n",
    "\n",
    "### 7. Iteration\n",
    "\n"
   ]
  },
  {
   "cell_type": "markdown",
   "id": "7d884157-df88-4eb3-94f2-5d05fe19f1b4",
   "metadata": {},
   "source": [
    "## Exploratory Data Analysis (EDA)\r\n",
    "Let's explore the Adult Dataset.\r\n",
    "\r\n",
    "To access the dataset, you have multiple options:\r\n",
    "\r\n",
    "1. **Kaggle**: You can visit the [Kaggle website](https://www.kaggle.com/) and search for the Adult Dataset to download it.\r\n",
    "2. **GitHub**: Another option is to use this [GitHub link](https://raw.githubusercontent.com/pplonski/datasets-for-start/master/adult/data.csv) to directly access the da\n",
    "   t4set.\r\n",
    "3. **UCI Machine Learning Repository**: The Adult Income dataset can be found at the [UCI Machine Learning Repository](https://archive.ics.uci.edu/ml/datasets/\n",
    "   a5ult).\r\n",
    "4. **Scikit-learn**: Alternatively, you can use the `fetch_openml` function from the scikit-learn library to fetch the dataset. More information about this function can be found in the [scikit-learn documentation](https://scikit-learn.org/stable/modules/generated/sklearn.datasets.fetch_openml. analysis.\n"
   ]
  },
  {
   "cell_type": "code",
   "execution_count": 6,
   "id": "8e36ef5d-e7a4-4ec1-a1f8-72c0e37c7754",
   "metadata": {},
   "outputs": [],
   "source": [
    "#The first step in our code is to load packages\n",
    "\n",
    "import json # will be needed for saving preprocessing details\n",
    "import numpy as np # for data manipulation\n",
    "import pandas as pd # for data manipulation\n",
    "from sklearn.model_selection import train_test_split # will be used for data split\n",
    "from sklearn.preprocessing import LabelEncoder # for preprocessing\n",
    "from sklearn.ensemble import RandomForestClassifier # for training the algorithm\n",
    "from sklearn.ensemble import ExtraTreesClassifier # for training the algorithm\n",
    "import joblib # for saving algorithm and preprocessing objects\n",
    "from collections import Counter\n",
    "import matplotlib.pyplot as plt"
   ]
  },
  {
   "cell_type": "code",
   "execution_count": 7,
   "id": "c849ad72-a5f4-49fc-b315-413e0c1c03eb",
   "metadata": {},
   "outputs": [
    {
     "name": "stdout",
     "output_type": "stream",
     "text": [
      "<class 'pandas.core.frame.DataFrame'>\n",
      "RangeIndex: 48842 entries, 0 to 48841\n",
      "Data columns (total 15 columns):\n",
      " #   Column           Non-Null Count  Dtype \n",
      "---  ------           --------------  ----- \n",
      " 0   age              48842 non-null  int64 \n",
      " 1   workclass        46043 non-null  object\n",
      " 2   fnlwgt           48842 non-null  int64 \n",
      " 3   education        48842 non-null  object\n",
      " 4   educational-num  48842 non-null  int64 \n",
      " 5   marital-status   48842 non-null  object\n",
      " 6   occupation       46033 non-null  object\n",
      " 7   relationship     48842 non-null  object\n",
      " 8   race             48842 non-null  object\n",
      " 9   gender           48842 non-null  object\n",
      " 10  capital-gain     48842 non-null  int64 \n",
      " 11  capital-loss     48842 non-null  int64 \n",
      " 12  hours-per-week   48842 non-null  int64 \n",
      " 13  native-country   47985 non-null  object\n",
      " 14  income           48842 non-null  object\n",
      "dtypes: int64(6), object(9)\n",
      "memory usage: 5.6+ MB\n",
      "None\n",
      "\n",
      "\n",
      "   age  workclass  fnlwgt     education  educational-num      marital-status  \\\n",
      "0   25    Private  226802          11th                7       Never-married   \n",
      "1   38    Private   89814       HS-grad                9  Married-civ-spouse   \n",
      "2   28  Local-gov  336951    Assoc-acdm               12  Married-civ-spouse   \n",
      "3   44    Private  160323  Some-college               10  Married-civ-spouse   \n",
      "4   18        NaN  103497  Some-college               10       Never-married   \n",
      "\n",
      "          occupation relationship   race  gender  capital-gain  capital-loss  \\\n",
      "0  Machine-op-inspct    Own-child  Black    Male             0             0   \n",
      "1    Farming-fishing      Husband  White    Male             0             0   \n",
      "2    Protective-serv      Husband  White    Male             0             0   \n",
      "3  Machine-op-inspct      Husband  Black    Male          7688             0   \n",
      "4                NaN    Own-child  White  Female             0             0   \n",
      "\n",
      "   hours-per-week native-country income  \n",
      "0              40  United-States  <=50K  \n",
      "1              50  United-States  <=50K  \n",
      "2              40  United-States   >50K  \n",
      "3              40  United-States   >50K  \n",
      "4              30  United-States  <=50K  \n"
     ]
    }
   ],
   "source": [
    "# load dataset\n",
    "url = 'https://raw.githubusercontent.com/slowjerm1/Income_classifier/main/data/adult.csv'\n",
    "\n",
    "adult_df= pd.read_csv(url,na_values='?',  skipinitialspace=True)\n",
    "print(adult_df.info())\n",
    "print(\"\\n\")\n",
    "print(adult_df.head())"
   ]
  },
  {
   "cell_type": "code",
   "execution_count": 8,
   "id": "d27d782a-824c-493a-ae0f-0ec78cf4d9ce",
   "metadata": {},
   "outputs": [
    {
     "name": "stdout",
     "output_type": "stream",
     "text": [
      "Checking dataframe missing values:\n",
      "\n",
      "The column: 'workclass' with Data Type: 'object' has missing value: 2799, percentage: 5.73%\n",
      "The column: 'occupation' with Data Type: 'object' has missing value: 2809, percentage: 5.75%\n",
      "The column: 'native-country' with Data Type: 'object' has missing value: 857, percentage: 1.75%\n"
     ]
    }
   ],
   "source": [
    "print(\"Checking dataframe missing values:\\n\")\n",
    "for column in adult_df.columns:\n",
    "    if adult_df[column].isnull().sum() != 0:\n",
    "        missingValue = adult_df[column].isnull().sum()\n",
    "        percentage = missingValue / len(adult_df[column]) * 100\n",
    "        dtype = adult_df[column].dtype\n",
    "        print(f\"The column: '{column}' with Data Type: '{dtype}' has missing value: {missingValue}, percentage: {percentage:.2f}%\")\n",
    "\n",
    "# memory cleaning\n",
    "del missingValue\n",
    "del percentage\n",
    "del dtype"
   ]
  },
  {
   "cell_type": "markdown",
   "id": "b4542f3a-3777-41d5-9afd-90ed589daef2",
   "metadata": {},
   "source": [
    "## Notice\n",
    "\n",
    "That's not much about handling missing values. It's a balancing act - either discarding them if they don't significantly affect model performance or filling them in with an appropriate strategy. The mode() method from pandas DataFrame can be used to fill the missing values in this case, as they fall into categorical features. For categorical values, the most frequent value can be used, while for numerical values, mean, median, etc. can be used."
   ]
  },
  {
   "cell_type": "code",
   "execution_count": 9,
   "id": "5f29eff5-f27c-43ca-93e9-3bb5f2b03901",
   "metadata": {},
   "outputs": [
    {
     "name": "stdout",
     "output_type": "stream",
     "text": [
      "Class: <=50K, Count = 37155, Percentage = 76.1%.\n",
      "Class: >50K, Count = 11687, Percentage = 23.9%.\n"
     ]
    }
   ],
   "source": [
    "label = adult_df.values[:, -1]\n",
    "counter = Counter(label)\n",
    "for key, value in counter.items():\n",
    "    percentage = value / len(label) * 100\n",
    "    print(f\"Class: {key}, Count = {value}, Percentage = {percentage:.1f}%.\")"
   ]
  },
  {
   "cell_type": "code",
   "execution_count": 10,
   "id": "1aeca950-124e-40e7-82db-52be4312605a",
   "metadata": {},
   "outputs": [
    {
     "name": "stdout",
     "output_type": "stream",
     "text": [
      "       age  fnlwgt  educational-num  capital-gain  capital-loss  \\\n",
      "0       25  226802                7             0             0   \n",
      "1       38   89814                9             0             0   \n",
      "2       28  336951               12             0             0   \n",
      "3       44  160323               10          7688             0   \n",
      "4       18  103497               10             0             0   \n",
      "...    ...     ...              ...           ...           ...   \n",
      "48837   27  257302               12             0             0   \n",
      "48838   40  154374                9             0             0   \n",
      "48839   58  151910                9             0             0   \n",
      "48840   22  201490                9             0             0   \n",
      "48841   52  287927                9         15024             0   \n",
      "\n",
      "       hours-per-week  \n",
      "0                  40  \n",
      "1                  50  \n",
      "2                  40  \n",
      "3                  40  \n",
      "4                  30  \n",
      "...               ...  \n",
      "48837              38  \n",
      "48838              40  \n",
      "48839              40  \n",
      "48840              20  \n",
      "48841              40  \n",
      "\n",
      "[48842 rows x 6 columns]\n"
     ]
    }
   ],
   "source": [
    "numerical_subset = adult_df.select_dtypes(include=['int64', 'float64'])\n",
    "print(numerical_subset)"
   ]
  },
  {
   "cell_type": "code",
   "execution_count": 11,
   "id": "8f16bc1c-90c0-47ec-8d97-7fb245a7a6a7",
   "metadata": {},
   "outputs": [
    {
     "data": {
      "image/png": "[encoded data removed]",
      "text/plain": [
       "<Figure size 2000x1500 with 6 Axes>"
      ]
     },
     "metadata": {},
     "output_type": "display_data"
    }
   ],
   "source": [
    "numerical_subset.hist(bins=20, figsize=(20, 15))\n",
    "plt.show()"
   ]
  },
  {
   "cell_type": "markdown",
   "id": "f3a04aa9-b32f-4efd-9da5-29a266229e4a",
   "metadata": {},
   "source": [
    "## Data Cleaning\n",
    "After we have explored the overview of the dataset, we are going to dig out \n",
    "any anomaly in the dataset and clean it out."
   ]
  },
  {
   "cell_type": "code",
   "execution_count": 12,
   "id": "38519b28-5a81-4bf1-9e4b-a36acba06dd5",
   "metadata": {},
   "outputs": [
    {
     "name": "stdout",
     "output_type": "stream",
     "text": [
      "<class 'pandas.core.frame.DataFrame'>\n",
      "RangeIndex: 48842 entries, 0 to 48841\n",
      "Data columns (total 15 columns):\n",
      " #   Column           Non-Null Count  Dtype \n",
      "---  ------           --------------  ----- \n",
      " 0   age              48842 non-null  int64 \n",
      " 1   workclass        48842 non-null  object\n",
      " 2   fnlwgt           48842 non-null  int64 \n",
      " 3   education        48842 non-null  object\n",
      " 4   educational-num  48842 non-null  int64 \n",
      " 5   marital-status   48842 non-null  object\n",
      " 6   occupation       48842 non-null  object\n",
      " 7   relationship     48842 non-null  object\n",
      " 8   race             48842 non-null  object\n",
      " 9   gender           48842 non-null  object\n",
      " 10  capital-gain     48842 non-null  int64 \n",
      " 11  capital-loss     48842 non-null  int64 \n",
      " 12  hours-per-week   48842 non-null  int64 \n",
      " 13  native-country   48842 non-null  object\n",
      " 14  income           48842 non-null  object\n",
      "dtypes: int64(6), object(9)\n",
      "memory usage: 5.6+ MB\n",
      "None\n"
     ]
    }
   ],
   "source": [
    "adult_df = adult_df.fillna(adult_df.mode().iloc[0])\n",
    "print(adult_df.info())"
   ]
  },
  {
   "cell_type": "markdown",
   "id": "f52aa2ea-23ff-440d-b9dc-4113c512a2a5",
   "metadata": {},
   "source": [
    "The Non-Null Count shows there's no more missing value from the dataset, it filled by the most_frequent value"
   ]
  },
  {
   "cell_type": "code",
   "execution_count": 13,
   "id": "e6ef665e-879f-4112-8a2e-15bc7de5c789",
   "metadata": {},
   "outputs": [
    {
     "name": "stdout",
     "output_type": "stream",
     "text": [
      "                age        fnlwgt  educational-num  capital-gain  \\\n",
      "count  48842.000000  4.884200e+04     48842.000000  48842.000000   \n",
      "mean      38.643585  1.896641e+05        10.078089   1079.067626   \n",
      "std       13.710510  1.056040e+05         2.570973   7452.019058   \n",
      "min       17.000000  1.228500e+04         1.000000      0.000000   \n",
      "25%       28.000000  1.175505e+05         9.000000      0.000000   \n",
      "50%       37.000000  1.781445e+05        10.000000      0.000000   \n",
      "75%       48.000000  2.376420e+05        12.000000      0.000000   \n",
      "max       90.000000  1.490400e+06        16.000000  99999.000000   \n",
      "\n",
      "       capital-loss  hours-per-week  \n",
      "count  48842.000000    48842.000000  \n",
      "mean      87.502314       40.422382  \n",
      "std      403.004552       12.391444  \n",
      "min        0.000000        1.000000  \n",
      "25%        0.000000       40.000000  \n",
      "50%        0.000000       40.000000  \n",
      "75%        0.000000       45.000000  \n",
      "max     4356.000000       99.000000  \n"
     ]
    }
   ],
   "source": [
    "print(numerical_subset.describe())"
   ]
  },
  {
   "cell_type": "markdown",
   "id": "307cdac2-bcd2-46a7-9ff3-000a3dc0b387",
   "metadata": {},
   "source": [
    "Well, from the column capital-gain, the maximum value is 99999 which seems like little bit werid, we can check the dataset description, the capital-gain means the additional income from capital market, such as stocks, securities, 99999 indicated somebody wrongly imput or it repersented as None additional income, here we can try to replace it with the mean value, and we will replace the 99 hours in the hours-per-week column also"
   ]
  },
  {
   "cell_type": "code",
   "execution_count": 14,
   "id": "e1a60db4-b809-4b35-8416-5b5a2ed67a14",
   "metadata": {},
   "outputs": [
    {
     "name": "stdout",
     "output_type": "stream",
     "text": [
      "There's 244 outlier in the capital-gain column\n",
      "There's 137 outlier in the hours-per-week column\n"
     ]
    }
   ],
   "source": [
    "print(f\"There's {adult_df[adult_df['capital-gain'] == 99999].shape[0]} outlier in the capital-gain column\")\n",
    "print(f\"There's {adult_df[adult_df['hours-per-week'] == 99].shape[0]} outlier in the hours-per-week column\")"
   ]
  },
  {
   "cell_type": "code",
   "execution_count": 15,
   "id": "41c5b209-c059-4b54-bd0b-a0753512b9c9",
   "metadata": {},
   "outputs": [
    {
     "name": "stdout",
     "output_type": "stream",
     "text": [
      "                age        fnlwgt  educational-num  capital-gain  \\\n",
      "count  48842.000000  4.884200e+04     48842.000000  48842.000000   \n",
      "mean      38.643585  1.896641e+05        10.078089    584.893278   \n",
      "std       13.710510  1.056040e+05         2.570973   2530.549506   \n",
      "min       17.000000  1.228500e+04         1.000000      0.000000   \n",
      "25%       28.000000  1.175505e+05         9.000000      0.000000   \n",
      "50%       37.000000  1.781445e+05        10.000000      0.000000   \n",
      "75%       48.000000  2.376420e+05        12.000000      0.000000   \n",
      "max       90.000000  1.490400e+06        16.000000  41310.000000   \n",
      "\n",
      "       capital-loss  hours-per-week  \n",
      "count  48842.000000    48842.000000  \n",
      "mean      87.502314       40.258074  \n",
      "std      403.004552       11.995662  \n",
      "min        0.000000        1.000000  \n",
      "25%        0.000000       40.000000  \n",
      "50%        0.000000       40.000000  \n",
      "75%        0.000000       45.000000  \n",
      "max     4356.000000       98.000000  \n"
     ]
    }
   ],
   "source": [
    "adult_df['capital-gain'].replace(99999, np.mean(adult_df['capital-gain'].values), inplace=True)\n",
    "adult_df['hours-per-week'].replace(99, np.mean(adult_df['hours-per-week'].values), inplace=True)\n",
    "print(adult_df.describe())"
   ]
  },
  {
   "cell_type": "markdown",
   "id": "9897289f-0f97-41d6-a42d-9b7f01ca1251",
   "metadata": {},
   "source": [
    "After the data exploration and cleaning, we save the cleaned DataFrame to adult_cleaned.csv file"
   ]
  },
  {
   "cell_type": "code",
   "execution_count": 16,
   "id": "cf2e27d1-1396-42ce-aefb-6e278b5e22df",
   "metadata": {},
   "outputs": [],
   "source": [
    "adult_df.to_csv(r'C:\\Users\\MILES\\Desktop\\Projects\\Income_classifier\\data\\adult_cleaned.csv', index=False)\n"
   ]
  },
  {
   "cell_type": "markdown",
   "id": "8ccd502f-5e16-4dab-964c-1535b198f233",
   "metadata": {},
   "source": [
    "Baseline Model Result\n",
    "We will evaluate candidate models using repeated stratified k-fold cross-validation\n",
    "\n",
    "The k-fold cross-validation procedure provides a good general estimate of model performance that is not too optimistically biased, at least compared to a single train-test split. We will use k=10, meaning each fold will contain about 45,222/10, or about 4,522 examples.\n",
    "\n",
    "Stratified means that each fold will contain the same mixture of examples by class, that is about 75% to 25% for the majority and minority classes respectively. Repeated means that the evaluation process will be performed multiple times to help avoid fluke results and better capture the variance of the chosen model. We will use three repeats.\n",
    "\n",
    "This means a single model will be fit and evaluated 10 * 3 or 30 times and the mean and standard deviation of these runs will be reported.\n",
    "\n",
    "This can be achieved using the RepeatedStratifiedKFold scikit-learn class.\n",
    "\n",
    "We will predict a class label for each example and measure model performance using classification accuracy.\n",
    "\n",
    "The evaluate_model() function below will take the loaded dataset and a defined model and will evaluate it using repeated stratified k-fold cross-validation, then return a list of accuracy scores that can later be summarized."
   ]
  },
  {
   "cell_type": "code",
   "execution_count": 17,
   "id": "237fc2f9-ab48-446c-9e27-218e274f5f56",
   "metadata": {},
   "outputs": [],
   "source": [
    "import pandas as pd\n",
    "import numpy as np\n",
    "from sklearn.preprocessing import LabelEncoder\n",
    "from sklearn.preprocessing import OneHotEncoder\n",
    "from sklearn.preprocessing import MinMaxScaler\n",
    "from sklearn.pipeline import Pipeline\n",
    "from sklearn.compose import ColumnTransformer\n",
    "from sklearn.model_selection import cross_val_score\n",
    "from sklearn.model_selection import RepeatedStratifiedKFold\n",
    "\n",
    "\n",
    "def load_dataset(filename):\n",
    "    df = pd.read_csv(filename)\n",
    "    X, y = df.iloc[:, :-1], df.iloc[:, -1]\n",
    "    cate_index = X.select_dtypes(include=['object']).columns\n",
    "    num_index = X.select_dtypes(include=['int64', 'float64']).columns\n",
    "    y = LabelEncoder().fit_transform(y)\n",
    "    \n",
    "    return X, y, cate_index, num_index\n",
    "\n",
    "def evaluate_model(X, y, model):\n",
    "    cv = RepeatedStratifiedKFold(n_splits=10, n_repeats=3, random_state=42)\n",
    "    scores = cross_val_score(model, X, y, scoring='accuracy', cv=cv, n_jobs=-1)\n",
    "\n",
    "    return scores"
   ]
  },
  {
   "cell_type": "code",
   "execution_count": 18,
   "id": "af9cd8a0-1730-4b9b-901f-2b8a975a363c",
   "metadata": {},
   "outputs": [],
   "source": [
    "from sklearn.dummy import DummyClassifier\n",
    "\n",
    "X, y, cate_index, num_index = load_dataset(r'C:\\Users\\MILES\\Desktop\\Projects\\Income_classifier\\data\\adult_cleaned.csv')\n",
    "model = DummyClassifier(strategy='most_frequent')"
   ]
  },
  {
   "cell_type": "code",
   "execution_count": 19,
   "id": "703ea76f-0374-4e3f-8075-edfb092eff95",
   "metadata": {},
   "outputs": [
    {
     "name": "stdout",
     "output_type": "stream",
     "text": [
      "[0.76069601 0.76069601 0.76085176 0.76085176 0.76085176 0.76064701\n",
      " 0.76064701 0.76064701 0.76064701 0.76064701 0.76069601 0.76069601\n",
      " 0.76085176 0.76085176 0.76085176 0.76064701 0.76064701 0.76064701\n",
      " 0.76064701 0.76064701 0.76069601 0.76069601 0.76085176 0.76085176\n",
      " 0.76085176 0.76064701 0.76064701 0.76064701 0.76064701 0.76064701]\n"
     ]
    }
   ],
   "source": [
    "scores = evaluate_model(X, y, model)\n",
    "print(scores)"
   ]
  },
  {
   "cell_type": "code",
   "execution_count": 20,
   "id": "4bb6304f-dc86-47c0-a419-9c71b9690911",
   "metadata": {},
   "outputs": [
    {
     "name": "stdout",
     "output_type": "stream",
     "text": [
      "The Dummy Classifier mean accuracy: 76.07%, with Standard Deviation: 0.00\n"
     ]
    }
   ],
   "source": [
    "print(f\"The Dummy Classifier mean accuracy: {(np.mean(scores)*100):.2f}%, with Standard Deviation: {np.std(scores):.2f}\")"
   ]
  },
  {
   "cell_type": "code",
   "execution_count": 21,
   "id": "396fe555-6a26-47a2-90cd-4ee07ea7ba49",
   "metadata": {},
   "outputs": [
    {
     "name": "stdout",
     "output_type": "stream",
     "text": [
      "The type of dataset: <class 'pandas.core.frame.DataFrame'>.\n",
      "The shape of the dataset: Row: 48842, with 14 fetures\n",
      "The type of the target label: <class 'numpy.ndarray'>\n",
      "The shape of the target label is: 48842 dimensional vector.\n"
     ]
    }
   ],
   "source": [
    "print(f\"The type of dataset: {type(X)}.\")\n",
    "print(f\"The shape of the dataset: Row: {X.shape[0]}, with {X.shape[1]} fetures\")\n",
    "print(f\"The type of the target label: {type(y)}\")\n",
    "print(f\"The shape of the target label is: {y.shape[0]} dimensional vector.\")"
   ]
  },
  {
   "cell_type": "markdown",
   "id": "8f3fa0aa-7e24-4d5f-b807-74f35f96fca6",
   "metadata": {},
   "source": [
    "## Note::\n",
    "Now that we have a test harness and a baseline in performance. In this case, we can see that the baseline algorithm achieves an accuracy of about **76.07%**. This score provides a lower limit on model skill; any model that achieves an average accuracy above about **76.07%** has skill, whereas models that achieve a score below this value do not have skill on this dataset. Now we can begin to evaluate some models on this dataset"
   ]
  },
  {
   "cell_type": "markdown",
   "id": "5192cb18-b816-40c2-be4e-bcce09186177",
   "metadata": {},
   "source": [
    "## Model Evaluate and Fine Turn\n",
    "\n",
    "### Evaluate Machine Learning Algorithms\n",
    "\n",
    "Let’s start by evaluating a mixture of machine learning models on the dataset.\r\n",
    "\r\n",
    "It can be a good idea to spot check a suite of different nonlinear algorithms o\n",
    "n a dataset to quickly flush out what works well and deserves further attention, and what doesn’t.\r\n",
    "\r\n",
    "We will evaluate the following machine learning models on the adult data\n",
    "\r\n",
    "\r\n",
    "- Decision Tree (CART)\r\n",
    "- Support Vector Machine (SVM)\r\n",
    "- Bagged Decision Trees (BAG)\r\n",
    "- Random Forest (RF)\r\n",
    "- Gradient Boosting Machine\n",
    "- \n",
    "  We plan to use default hyperparameters for most of the models, except for the ensemble algorithms where we will set the number of trees to 100, which is a reasonable default. We will define each model and add them to a list for sequential evaluation. The function \"generate_models()\" below specifies the list of models to be evaluated and also creates a list of short names for plotting the results later on. (GBM)GBM)set:"
   ]
  },
  {
   "cell_type": "code",
   "execution_count": 22,
   "id": "fb24aa1e-d8c3-4be9-bae9-91f87f132aae",
   "metadata": {},
   "outputs": [
    {
     "name": "stdout",
     "output_type": "stream",
     "text": [
      "<class 'pandas.core.frame.DataFrame'>\n",
      "(48842, 14)\n",
      "<class 'numpy.ndarray'>\n",
      "(48842,)\n"
     ]
    }
   ],
   "source": [
    "import numpy as np\n",
    "import pandas as pd\n",
    "from sklearn.preprocessing import LabelEncoder\n",
    "from sklearn.preprocessing import OneHotEncoder\n",
    "from sklearn.preprocessing import MinMaxScaler\n",
    "from sklearn.pipeline import Pipeline\n",
    "from sklearn.model_selection import cross_val_score\n",
    "from sklearn.model_selection import train_test_split\n",
    "from sklearn.model_selection import RepeatedStratifiedKFold\n",
    "from sklearn.ensemble import GradientBoostingClassifier\n",
    "from sklearn.tree import DecisionTreeClassifier\n",
    "from sklearn.ensemble import RandomForestClassifier\n",
    "from sklearn.neural_network import MLPClassifier\n",
    "from sklearn.svm import SVC\n",
    "from sklearn.ensemble import BaggingClassifier\n",
    "\n",
    "def load_dataset(filename):\n",
    "    df = pd.read_csv(filename)\n",
    "    X, y = df.iloc[:, :-1], df.iloc[:, -1]\n",
    "    cate_index = X.select_dtypes(include=['object']).columns\n",
    "    num_index = X.select_dtypes(include=['int64', 'float64']).columns\n",
    "    y = LabelEncoder().fit_transform(y)\n",
    "    return X, y, cate_index, num_index\n",
    "\n",
    "X, y, cate_index, num_index = load_dataset(r'C:\\Users\\MILES\\Desktop\\Projects\\Income_classifier\\data\\adult_cleaned.csv')\n",
    "print(type(X))\n",
    "print(X.shape)\n",
    "print(type(y))\n",
    "print(y.shape)"
   ]
  },
  {
   "cell_type": "code",
   "execution_count": 23,
   "id": "3a6a0532-3c1d-4fbc-a24d-10399bf3ed2e",
   "metadata": {},
   "outputs": [],
   "source": [
    "def generate_models():\n",
    "    models, names = [], []\n",
    "    names.append('CART')\n",
    "    models.append(DecisionTreeClassifier())\n",
    "    names.append('SVM')\n",
    "    models.append(SVC(gamma='scale'))\n",
    "    names.append('BAG')\n",
    "    models.append(BaggingClassifier(n_estimators=100))\n",
    "    names.append('RF')\n",
    "    models.append(RandomForestClassifier(n_estimators=100))\n",
    "    names.append('GBM')\n",
    "    models.append(GradientBoostingClassifier(n_estimators=100))\n",
    "    names.append('Neural Network')\n",
    "    models.append(MLPClassifier(early_stopping=True))\n",
    "    return models, names\n",
    "\n",
    "models, names = generate_models()"
   ]
  },
  {
   "cell_type": "markdown",
   "id": "d921fe19-fbf4-4d69-9036-6a94224f7add",
   "metadata": {},
   "source": [
    "As now the X array still in pandas DataFrame with categorical values, here we need to \"encoding\" the categorical values into numerical values, OneHotEncoder with Scikit-Learn Pipeline are quite handy"
   ]
  },
  {
   "cell_type": "code",
   "execution_count": 24,
   "id": "857492c6-124c-4948-a5ea-5ec916c7cae1",
   "metadata": {},
   "outputs": [
    {
     "name": "stdout",
     "output_type": "stream",
     "text": [
      "[ColumnTransformer] ... (1 of 2) Processing Categorical, total=   0.1s\n",
      "[ColumnTransformer] ..... (2 of 2) Processing Numerical, total=   0.0s\n",
      "<class 'scipy.sparse._csr.csr_matrix'>\n",
      "(48842, 105)\n"
     ]
    }
   ],
   "source": [
    "steps = [('Categorical', OneHotEncoder(handle_unknown='ignore'), cate_index), ('Numerical', MinMaxScaler(), num_index)]\n",
    "\n",
    "from sklearn.compose import ColumnTransformer\n",
    "transformer = ColumnTransformer(steps, verbose=True)\n",
    "X = transformer.fit_transform(X)\n",
    "\n",
    "print(type(X))\n",
    "print(X.shape)"
   ]
  },
  {
   "cell_type": "code",
   "execution_count": 25,
   "id": "43b5ad97-c840-4f6f-b18e-54c7c7bb6ec7",
   "metadata": {},
   "outputs": [
    {
     "name": "stdout",
     "output_type": "stream",
     "text": [
      "(34189, 105)\n",
      "(14653, 105)\n",
      "(34189,)\n",
      "(14653,)\n"
     ]
    }
   ],
   "source": [
    "from sklearn.model_selection import train_test_split\n",
    "\n",
    "X_train, X_test, y_train, y_test = train_test_split(X, y, test_size=0.3, random_state=42, stratify=y)\n",
    "print(X_train.shape)\n",
    "print(X_test.shape)\n",
    "print(y_train.shape)\n",
    "print(y_test.shape)"
   ]
  },
  {
   "cell_type": "code",
   "execution_count": 26,
   "id": "2fcd3e4d-9af4-4f43-af27-f4429641e2e1",
   "metadata": {},
   "outputs": [],
   "source": [
    "import warnings\n",
    "warnings.filterwarnings('ignore')"
   ]
  },
  {
   "cell_type": "code",
   "execution_count": 27,
   "id": "e4dc1543-105e-4f5e-b7f5-2b63efbbec6f",
   "metadata": {},
   "outputs": [
    {
     "name": "stdout",
     "output_type": "stream",
     "text": [
      "\n",
      "    ********************************\n",
      "     Now evaluating CART model\n",
      "    ********************************\n",
      "\n",
      "The CART model average accuracy is: 81.11%, with Standard Deviation: 0.58.\n",
      "\n",
      "    ********************************\n",
      "     Now evaluating SVM model\n",
      "    ********************************\n",
      "\n",
      "The SVM model average accuracy is: 84.61%, with Standard Deviation: 0.61.\n",
      "\n",
      "    ********************************\n",
      "     Now evaluating BAG model\n",
      "    ********************************\n",
      "\n",
      "The BAG model average accuracy is: 85.26%, with Standard Deviation: 0.51.\n",
      "\n",
      "    ********************************\n",
      "     Now evaluating RF model\n",
      "    ********************************\n",
      "\n",
      "The RF model average accuracy is: 85.02%, with Standard Deviation: 0.47.\n",
      "\n",
      "    ********************************\n",
      "     Now evaluating GBM model\n",
      "    ********************************\n",
      "\n",
      "The GBM model average accuracy is: 86.31%, with Standard Deviation: 0.47.\n",
      "\n",
      "    ********************************\n",
      "     Now evaluating Neural Network model\n",
      "    ********************************\n",
      "\n",
      "The Neural Network model average accuracy is: 85.01%, with Standard Deviation: 0.56.\n"
     ]
    }
   ],
   "source": [
    "for i in range(len(models)):\n",
    "    \n",
    "    print(f\"\"\"\n",
    "    ********************************\n",
    "     Now evaluating {names[i]} model\n",
    "    ********************************\\n\"\"\")\n",
    "    \n",
    "    scores = evaluate_model(X_train, y_train, models[i])\n",
    "    print(f\"The {names[i]} model average accuracy is: {(np.mean(scores)*100):.2f}%, with Standard Deviation: {(np.std(scores)*100):.2f}.\")"
   ]
  },
  {
   "cell_type": "markdown",
   "id": "3257d299-91cf-4767-8b61-f36c1eea57f0",
   "metadata": {},
   "source": [
    "In this case, we can see that all of the chosen algorithms are skillful, achieving a classification accuracy above 76.07%. We can see that the ensemble decision tree algorithms perform the best with perhaps stochastic gradient boosting performing the best with a classification accuracy of about 86.3%.\n",
    "\n",
    "This accuracy is using the default Hyperperameter, we can pick two top performance algorithms to use scikit-learn GridSearch() to fine turn the Hyperperameter to see whether it can get better performance.\n",
    "\n",
    "The best two performance algorithms:\n",
    "\n",
    "- BaggingClassfier(n_estimators=100)\n",
    "- GradientBoostingClassfier(n_estimators=100)\n",
    "We can try to fine turn this two model."
   ]
  },
  {
   "cell_type": "code",
   "execution_count": 28,
   "id": "a18a5d58-c7ae-4945-a306-566af10bc010",
   "metadata": {},
   "outputs": [],
   "source": [
    "from sklearn.model_selection import GridSearchCV\n",
    "\n",
    "BAGgrid = {'n_estimators': [100, 200]}\n",
    "cv = RepeatedStratifiedKFold(n_splits=5, n_repeats=2, random_state=42)\n",
    "BAGclf = BaggingClassifier()\n",
    "BAGgrid_search = GridSearchCV(estimator=BAGclf, param_grid=BAGgrid, n_jobs=-1, cv=cv, \n",
    "                              scoring='accuracy', error_score=0)\n",
    "BAGgrid_result = BAGgrid_search.fit(X_train, y_train)"
   ]
  },
  {
   "cell_type": "code",
   "execution_count": 32,
   "id": "d5fdecfa-ce48-4dcd-914e-5b8b3b6d0db6",
   "metadata": {},
   "outputs": [
    {
     "name": "stdout",
     "output_type": "stream",
     "text": [
      "0.8513411040515017\n",
      "{'n_estimators': 100}\n"
     ]
    }
   ],
   "source": [
    "print(BAGgrid_result.best_score_)\n",
    "print(BAGgrid_result.best_params_)"
   ]
  },
  {
   "cell_type": "code",
   "execution_count": 33,
   "id": "f4e4b09a-f5a4-4fe2-88de-0c0ef1dd298d",
   "metadata": {},
   "outputs": [
    {
     "name": "stdout",
     "output_type": "stream",
     "text": [
      "0.8672233750574261\n",
      "{'n_estimators': 200}\n"
     ]
    }
   ],
   "source": [
    "GBMgrid = {'n_estimators': [100, 200]}\n",
    "GBMclf = GradientBoostingClassifier(learning_rate=0.1, min_samples_split=500, min_samples_leaf=50, \n",
    "                                    max_depth=8, max_features='sqrt', subsample=0.8, random_state=42)\n",
    "GBMgrid_search = GridSearchCV(estimator=GBMclf, param_grid=GBMgrid, n_jobs=-1, cv=cv,\n",
    "                              scoring='accuracy', error_score=0)\n",
    "GBMgrid_result = GBMgrid_search.fit(X_train, y_train)\n",
    "print(GBMgrid_result.best_score_)\n",
    "print(GBMgrid_result.best_params_)"
   ]
  },
  {
   "cell_type": "markdown",
   "id": "775e481c-2a63-4ef7-99a3-1ace1e31bfba",
   "metadata": {},
   "source": [
    "Well, seems like if the n_estimators is equal to 200, the\n",
    "GradientBoostingClassifier performance incrase to **86.69%**, then we can\n",
    "update our hyperparameter for GradientBoostingClassfier and train it\n",
    "according to our Training Subset, now we have the winner, is\n",
    "GradientBoostingClassifier algorithm.\n",
    "Actually using **GridSearchCV** is quite computational expensive, I would\n",
    "suggest to use Cloud Notebook Envirnoment, such Google Colab, AWS, or\n",
    "Google Cloud or Gradient, or Kaggle, both of them provide quite power CPU\n",
    "and tons of memory, and most important, they provide free GPU in certain\n",
    "amount of time"
   ]
  },
  {
   "cell_type": "markdown",
   "id": "0390e0d4-3e7b-4de8-ba8a-b8e48128d615",
   "metadata": {},
   "source": [
    "**Final**: Train the **best model**, **save it**, for future use or \n",
    "deliver to customer"
   ]
  },
  {
   "cell_type": "markdown",
   "id": "38777f13-1222-462f-8259-f126cf331f37",
   "metadata": {},
   "source": [
    "We pick GradientBoostingClassifier as our final model, we will train it with\n",
    "Training Subset, and see how it goes in Testing Subset, then finally we will\n",
    "save it and deliver to our customer.\n"
   ]
  },
  {
   "cell_type": "code",
   "execution_count": 34,
   "id": "e2ce88a1-f0e9-45a9-8a0c-b266912938d2",
   "metadata": {},
   "outputs": [
    {
     "data": {
      "text/html": [
       "<style>#sk-container-id-1 {color: black;}#sk-container-id-1 pre{padding: 0;}#sk-container-id-1 div.sk-toggleable {background-color: white;}#sk-container-id-1 label.sk-toggleable__label {cursor: pointer;display: block;width: 100%;margin-bottom: 0;padding: 0.3em;box-sizing: border-box;text-align: center;}#sk-container-id-1 label.sk-toggleable__label-arrow:before {content: \"▸\";float: left;margin-right: 0.25em;color: #696969;}#sk-container-id-1 label.sk-toggleable__label-arrow:hover:before {color: black;}#sk-container-id-1 div.sk-estimator:hover label.sk-toggleable__label-arrow:before {color: black;}#sk-container-id-1 div.sk-toggleable__content {max-height: 0;max-width: 0;overflow: hidden;text-align: left;background-color: #f0f8ff;}#sk-container-id-1 div.sk-toggleable__content pre {margin: 0.2em;color: black;border-radius: 0.25em;background-color: #f0f8ff;}#sk-container-id-1 input.sk-toggleable__control:checked~div.sk-toggleable__content {max-height: 200px;max-width: 100%;overflow: auto;}#sk-container-id-1 input.sk-toggleable__control:checked~label.sk-toggleable__label-arrow:before {content: \"▾\";}#sk-container-id-1 div.sk-estimator input.sk-toggleable__control:checked~label.sk-toggleable__label {background-color: #d4ebff;}#sk-container-id-1 div.sk-label input.sk-toggleable__control:checked~label.sk-toggleable__label {background-color: #d4ebff;}#sk-container-id-1 input.sk-hidden--visually {border: 0;clip: rect(1px 1px 1px 1px);clip: rect(1px, 1px, 1px, 1px);height: 1px;margin: -1px;overflow: hidden;padding: 0;position: absolute;width: 1px;}#sk-container-id-1 div.sk-estimator {font-family: monospace;background-color: #f0f8ff;border: 1px dotted black;border-radius: 0.25em;box-sizing: border-box;margin-bottom: 0.5em;}#sk-container-id-1 div.sk-estimator:hover {background-color: #d4ebff;}#sk-container-id-1 div.sk-parallel-item::after {content: \"\";width: 100%;border-bottom: 1px solid gray;flex-grow: 1;}#sk-container-id-1 div.sk-label:hover label.sk-toggleable__label {background-color: #d4ebff;}#sk-container-id-1 div.sk-serial::before {content: \"\";position: absolute;border-left: 1px solid gray;box-sizing: border-box;top: 0;bottom: 0;left: 50%;z-index: 0;}#sk-container-id-1 div.sk-serial {display: flex;flex-direction: column;align-items: center;background-color: white;padding-right: 0.2em;padding-left: 0.2em;position: relative;}#sk-container-id-1 div.sk-item {position: relative;z-index: 1;}#sk-container-id-1 div.sk-parallel {display: flex;align-items: stretch;justify-content: center;background-color: white;position: relative;}#sk-container-id-1 div.sk-item::before, #sk-container-id-1 div.sk-parallel-item::before {content: \"\";position: absolute;border-left: 1px solid gray;box-sizing: border-box;top: 0;bottom: 0;left: 50%;z-index: -1;}#sk-container-id-1 div.sk-parallel-item {display: flex;flex-direction: column;z-index: 1;position: relative;background-color: white;}#sk-container-id-1 div.sk-parallel-item:first-child::after {align-self: flex-end;width: 50%;}#sk-container-id-1 div.sk-parallel-item:last-child::after {align-self: flex-start;width: 50%;}#sk-container-id-1 div.sk-parallel-item:only-child::after {width: 0;}#sk-container-id-1 div.sk-dashed-wrapped {border: 1px dashed gray;margin: 0 0.4em 0.5em 0.4em;box-sizing: border-box;padding-bottom: 0.4em;background-color: white;}#sk-container-id-1 div.sk-label label {font-family: monospace;font-weight: bold;display: inline-block;line-height: 1.2em;}#sk-container-id-1 div.sk-label-container {text-align: center;}#sk-container-id-1 div.sk-container {/* jupyter's `normalize.less` sets `[hidden] { display: none; }` but bootstrap.min.css set `[hidden] { display: none !important; }` so we also need the `!important` here to be able to override the default hidden behavior on the sphinx rendered scikit-learn.org. See: https://github.com/scikit-learn/scikit-learn/issues/21755 */display: inline-block !important;position: relative;}#sk-container-id-1 div.sk-text-repr-fallback {display: none;}</style><div id=\"sk-container-id-1\" class=\"sk-top-container\"><div class=\"sk-text-repr-fallback\"><pre>GradientBoostingClassifier(max_depth=8, max_features=&#x27;sqrt&#x27;,\n",
       "                           min_samples_leaf=50, min_samples_split=500,\n",
       "                           n_estimators=200, random_state=42, subsample=0.8)</pre><b>In a Jupyter environment, please rerun this cell to show the HTML representation or trust the notebook. <br />On GitHub, the HTML representation is unable to render, please try loading this page with nbviewer.org.</b></div><div class=\"sk-container\" hidden><div class=\"sk-item\"><div class=\"sk-estimator sk-toggleable\"><input class=\"sk-toggleable__control sk-hidden--visually\" id=\"sk-estimator-id-1\" type=\"checkbox\" checked><label for=\"sk-estimator-id-1\" class=\"sk-toggleable__label sk-toggleable__label-arrow\">GradientBoostingClassifier</label><div class=\"sk-toggleable__content\"><pre>GradientBoostingClassifier(max_depth=8, max_features=&#x27;sqrt&#x27;,\n",
       "                           min_samples_leaf=50, min_samples_split=500,\n",
       "                           n_estimators=200, random_state=42, subsample=0.8)</pre></div></div></div></div></div>"
      ],
      "text/plain": [
       "GradientBoostingClassifier(max_depth=8, max_features='sqrt',\n",
       "                           min_samples_leaf=50, min_samples_split=500,\n",
       "                           n_estimators=200, random_state=42, subsample=0.8)"
      ]
     },
     "execution_count": 34,
     "metadata": {},
     "output_type": "execute_result"
    }
   ],
   "source": [
    "model = GradientBoostingClassifier(n_estimators=200, learning_rate=0.1, min_samples_split=500, min_samples_leaf=50, \n",
    "                                   max_depth=8, max_features='sqrt', subsample=0.8, random_state=42)\n",
    "\n",
    "model.fit(X_train, y_train)"
   ]
  },
  {
   "cell_type": "code",
   "execution_count": 35,
   "id": "845fa209-b427-4427-9455-5c715c2182c7",
   "metadata": {},
   "outputs": [
    {
     "name": "stdout",
     "output_type": "stream",
     "text": [
      "The model test set accuracy is: 87.4%.\n"
     ]
    }
   ],
   "source": [
    "TestScore = model.score(X_test, y_test)\n",
    "print(f\"The model test set accuracy is: {(TestScore*100):.1f}%.\")\n"
   ]
  },
  {
   "cell_type": "code",
   "execution_count": 36,
   "id": "e0f8a0b8-7942-48b3-a85f-dc151aaae4e6",
   "metadata": {},
   "outputs": [
    {
     "name": "stdout",
     "output_type": "stream",
     "text": [
      "              precision    recall  f1-score   support\n",
      "\n",
      "           0       0.90      0.94      0.92     11147\n",
      "           1       0.79      0.65      0.71      3506\n",
      "\n",
      "    accuracy                           0.87     14653\n",
      "   macro avg       0.84      0.80      0.82     14653\n",
      "weighted avg       0.87      0.87      0.87     14653\n",
      "\n"
     ]
    }
   ],
   "source": [
    "from sklearn.metrics import classification_report\n",
    "predicted = model.predict(X_test)\n",
    "print(classification_report(y_test, predicted))"
   ]
  },
  {
   "cell_type": "code",
   "execution_count": 38,
   "id": "768f71d3-5bc0-4d21-b299-5de7acb2cd49",
   "metadata": {},
   "outputs": [
    {
     "data": {
      "text/plain": [
       "['C:\\\\Users\\\\MILES\\\\Desktop\\\\Projects\\\\Income_classifier\\\\final_model.sav']"
      ]
     },
     "execution_count": 38,
     "metadata": {},
     "output_type": "execute_result"
    }
   ],
   "source": [
    "import joblib\n",
    "joblib.dump(model, r'C:\\Users\\MILES\\Desktop\\Projects\\Income_classifier\\final_model.sav')"
   ]
  }
 ],
 "metadata": {
  "kernelspec": {
   "display_name": "Python 3 (ipykernel)",
   "language": "python",
   "name": "python3"
  },
  "language_info": {
   "codemirror_mode": {
    "name": "ipython",
    "version": 3
   },
   "file_extension": ".py",
   "mimetype": "text/x-python",
   "name": "python",
   "nbconvert_exporter": "python",
   "pygments_lexer": "ipython3",
   "version": "3.12.0"
  }
 },
 "nbformat": 4,
 "nbformat_minor": 5
}
